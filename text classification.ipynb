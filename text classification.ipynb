{
 "cells": [
  {
   "cell_type": "code",
   "execution_count": 22,
   "id": "aa895732",
   "metadata": {},
   "outputs": [
    {
     "name": "stdout",
     "output_type": "stream",
     "text": [
      "The new text is classified as a cat document\n"
     ]
    }
   ],
   "source": [
    "from sklearn.feature_extraction.text import CountVectorizer\n",
    "from sklearn.linear_model import LogisticRegression\n",
    "\n",
    "# Collect the training data\n",
    "texts = [\n",
    "    \"This is the first document\",\n",
    "    \"This document is about dogs\",\n",
    "    \"This document is about cats\",\n",
    "    \"This document is about dogs and cats\",\n",
    "    \"Dogs and cats are popular pets\",\n",
    "    \"dogs love birds.\"\n",
    "]\n",
    "categories = [1, 0, 0, 0, 1,0]\n",
    "\n",
    "# Vectorize the texts using a bag of words representation\n",
    "vectorizer = CountVectorizer()\n",
    "X = vectorizer.fit_transform(texts)\n",
    "\n",
    "# Build a logistic regression model\n",
    "model = LogisticRegression()\n",
    "\n",
    "# Train the model\n",
    "model.fit(X, categories)\n",
    "\n",
    "# Make a prediction on a new piece of text\n",
    "new_text = \"cat love bird.\"\n",
    "new_X = vectorizer.transform([new_text])\n",
    "prediction = model.predict(new_X)[0]\n",
    "\n",
    "if prediction == 0:\n",
    "    print(\"The new text is classified as a cat document\")\n",
    "else:\n",
    "    print(\"The new text is classified as a dog document\")\n",
    "\n",
    "\n",
    "    "
   ]
  },
  {
   "cell_type": "code",
   "execution_count": 12,
   "id": "f574284a",
   "metadata": {},
   "outputs": [
    {
     "data": {
      "text/plain": [
       "1"
      ]
     },
     "execution_count": 12,
     "metadata": {},
     "output_type": "execute_result"
    }
   ],
   "source": [
    "prediction"
   ]
  },
  {
   "cell_type": "code",
   "execution_count": null,
   "id": "5e0c4422",
   "metadata": {},
   "outputs": [],
   "source": []
  },
  {
   "cell_type": "code",
   "execution_count": null,
   "id": "7415381d",
   "metadata": {},
   "outputs": [],
   "source": []
  }
 ],
 "metadata": {
  "kernelspec": {
   "display_name": "Python 3 (ipykernel)",
   "language": "python",
   "name": "python3"
  },
  "language_info": {
   "codemirror_mode": {
    "name": "ipython",
    "version": 3
   },
   "file_extension": ".py",
   "mimetype": "text/x-python",
   "name": "python",
   "nbconvert_exporter": "python",
   "pygments_lexer": "ipython3",
   "version": "3.10.4"
  }
 },
 "nbformat": 4,
 "nbformat_minor": 5
}
